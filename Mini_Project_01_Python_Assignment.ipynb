{
  "nbformat": 4,
  "nbformat_minor": 0,
  "metadata": {
    "colab": {
      "provenance": [],
      "authorship_tag": "ABX9TyM5I5484aJiCnYzj1qK0von",
      "include_colab_link": true
    },
    "kernelspec": {
      "name": "python3",
      "display_name": "Python 3"
    },
    "language_info": {
      "name": "python"
    }
  },
  "cells": [
    {
      "cell_type": "markdown",
      "metadata": {
        "id": "view-in-github",
        "colab_type": "text"
      },
      "source": [
        "<a href=\"https://colab.research.google.com/github/JaspreetMaan14/Mini-Project---01/blob/main/Mini_Project_01_Python_Assignment.ipynb\" target=\"_parent\"><img src=\"https://colab.research.google.com/assets/colab-badge.svg\" alt=\"Open In Colab\"/></a>"
      ]
    },
    {
      "cell_type": "markdown",
      "source": [
        "#**Python Assignment**\n",
        "-----------------------------------------------------------------------------------------------------------------------------\n",
        "**Q1. L is a list defined as L= [11, 12, 13, 14].**\n",
        "\n"
      ],
      "metadata": {
        "id": "icopfQS2Rq_U"
      }
    },
    {
      "cell_type": "code",
      "source": [
        "L=[11,12,13,14]"
      ],
      "metadata": {
        "id": "ma3u0BGC1AN2"
      },
      "execution_count": null,
      "outputs": []
    },
    {
      "cell_type": "markdown",
      "source": [
        "(i) WAP to add 50 and 60 to L."
      ],
      "metadata": {
        "id": "ww0rjdTvRvXu"
      }
    },
    {
      "cell_type": "code",
      "source": [
        "L.extend([50, 60])\n",
        "print(\"After adding:\", L)"
      ],
      "metadata": {
        "colab": {
          "base_uri": "https://localhost:8080/"
        },
        "id": "K56WVvRX01iA",
        "outputId": "5a48b638-4db1-418f-8337-cfdec2144723"
      },
      "execution_count": null,
      "outputs": [
        {
          "output_type": "stream",
          "name": "stdout",
          "text": [
            "After adding: [11, 12, 13, 14, 50, 60]\n"
          ]
        }
      ]
    },
    {
      "cell_type": "markdown",
      "source": [
        " (ii) WAP to remove 11 and 13from L."
      ],
      "metadata": {
        "id": "JunH92P6R85O"
      }
    },
    {
      "cell_type": "code",
      "source": [
        "L.remove(11)\n",
        "L.remove(13)\n",
        "print(\"After removing:\", L)"
      ],
      "metadata": {
        "colab": {
          "base_uri": "https://localhost:8080/"
        },
        "id": "f72-8uNO1GeR",
        "outputId": "7d1a6e38-1c45-4ea7-83f5-faf45e34fd1f"
      },
      "execution_count": null,
      "outputs": [
        {
          "output_type": "stream",
          "name": "stdout",
          "text": [
            "After removing: [12, 14, 50, 60]\n"
          ]
        }
      ]
    },
    {
      "cell_type": "markdown",
      "source": [
        " (iii) WAP to sort L in ascending order."
      ],
      "metadata": {
        "id": "RCV21yeSSBkb"
      }
    },
    {
      "cell_type": "code",
      "source": [
        "L.sort()\n",
        "print(\"After sorting:\", L)"
      ],
      "metadata": {
        "colab": {
          "base_uri": "https://localhost:8080/"
        },
        "id": "FCquPdGD1RMt",
        "outputId": "fe36e111-d5fa-46c1-804e-adbfa871447c"
      },
      "execution_count": null,
      "outputs": [
        {
          "output_type": "stream",
          "name": "stdout",
          "text": [
            "After sorting: [12, 14, 50, 60]\n"
          ]
        }
      ]
    },
    {
      "cell_type": "markdown",
      "source": [
        " (iv) WAP to sort L in descending order."
      ],
      "metadata": {
        "id": "g_hixAjSSGXt"
      }
    },
    {
      "cell_type": "code",
      "source": [
        "L.sort(reverse = True)\n",
        "print(\"After sorting:\", L)"
      ],
      "metadata": {
        "colab": {
          "base_uri": "https://localhost:8080/"
        },
        "id": "i3TLvBMh1Zhd",
        "outputId": "60366b1f-f011-4f8f-e937-bf54111233b1"
      },
      "execution_count": null,
      "outputs": [
        {
          "output_type": "stream",
          "name": "stdout",
          "text": [
            "After sorting: [60, 50, 14, 12]\n"
          ]
        }
      ]
    },
    {
      "cell_type": "markdown",
      "source": [
        "(v) WAP to search for 13 in L."
      ],
      "metadata": {
        "id": "0tK4UmV6SKAM"
      }
    },
    {
      "cell_type": "code",
      "source": [
        "print(\"13 in L?\",13 in L)"
      ],
      "metadata": {
        "colab": {
          "base_uri": "https://localhost:8080/"
        },
        "id": "yHXF7eFg1sSr",
        "outputId": "b57c8001-1729-4755-eab5-1cbec8241738"
      },
      "execution_count": null,
      "outputs": [
        {
          "output_type": "stream",
          "name": "stdout",
          "text": [
            "13 in L? False\n"
          ]
        }
      ]
    },
    {
      "cell_type": "markdown",
      "source": [
        "(vi) WAP to count the number of elements present in L."
      ],
      "metadata": {
        "id": "njuzTqOkSN6a"
      }
    },
    {
      "cell_type": "code",
      "source": [
        "print(\"Length of L:\", len(L))"
      ],
      "metadata": {
        "colab": {
          "base_uri": "https://localhost:8080/"
        },
        "id": "6AaCMTw113SJ",
        "outputId": "d3950de1-769e-425d-eef1-cf218069c31d"
      },
      "execution_count": null,
      "outputs": [
        {
          "output_type": "stream",
          "name": "stdout",
          "text": [
            "Length of L: 4\n"
          ]
        }
      ]
    },
    {
      "cell_type": "markdown",
      "source": [
        " (vii) WAP to sum all the elements in L."
      ],
      "metadata": {
        "id": "aHyU7n7eSRam"
      }
    },
    {
      "cell_type": "code",
      "source": [
        "print(\"sum of all elements in L -->\",sum(L))"
      ],
      "metadata": {
        "colab": {
          "base_uri": "https://localhost:8080/"
        },
        "id": "o0iQFLEZ2M-x",
        "outputId": "5837a415-009e-4269-957d-9cf510d3b04e"
      },
      "execution_count": null,
      "outputs": [
        {
          "output_type": "stream",
          "name": "stdout",
          "text": [
            "sum of all elements in L --> 136\n"
          ]
        }
      ]
    },
    {
      "cell_type": "markdown",
      "source": [
        "(viii) WAP to sum all ODD numbers in L."
      ],
      "metadata": {
        "id": "-2hBqTxsSVtx"
      }
    },
    {
      "cell_type": "code",
      "source": [
        "print(\"Odd Sum:\", sum(i for i in L if i % 2 != 0))"
      ],
      "metadata": {
        "colab": {
          "base_uri": "https://localhost:8080/"
        },
        "id": "xRMt6GtJ2am0",
        "outputId": "9b7baedb-d8df-4a32-88e9-7e236eb671f5"
      },
      "execution_count": null,
      "outputs": [
        {
          "output_type": "stream",
          "name": "stdout",
          "text": [
            "Odd Sum: 0\n"
          ]
        }
      ]
    },
    {
      "cell_type": "markdown",
      "source": [
        "(ix) WAP to sum all EVEN numbers in L."
      ],
      "metadata": {
        "id": "GOxqXgg8SZaf"
      }
    },
    {
      "cell_type": "code",
      "source": [
        "print(\"even Sum:\", sum(i for i in L if i % 2 == 0))"
      ],
      "metadata": {
        "colab": {
          "base_uri": "https://localhost:8080/"
        },
        "id": "JrKPs8yC2hek",
        "outputId": "4f4a77ff-6d1c-4a73-f09d-e20ea113c582"
      },
      "execution_count": null,
      "outputs": [
        {
          "output_type": "stream",
          "name": "stdout",
          "text": [
            "even Sum: 136\n"
          ]
        }
      ]
    },
    {
      "cell_type": "markdown",
      "source": [
        " (x) WAP to sum all PRIME numbers in L."
      ],
      "metadata": {
        "id": "5q5UqSqYSfYe"
      }
    },
    {
      "cell_type": "code",
      "source": [
        "def IsPrime(n):\n",
        "    for i in range(2, n // 2 + 1):\n",
        "        if n % i == 0:\n",
        "            return 0\n",
        "    return 1\n",
        "\n",
        "print(\"Prime Sum:\", sum(i for i in L if IsPrime(i)))\n"
      ],
      "metadata": {
        "colab": {
          "base_uri": "https://localhost:8080/"
        },
        "id": "IMYRdbbd4ipQ",
        "outputId": "c61aeafa-93ff-49fa-f575-222a3a41100f"
      },
      "execution_count": null,
      "outputs": [
        {
          "output_type": "stream",
          "name": "stdout",
          "text": [
            "Prime Sum: 0\n"
          ]
        }
      ]
    },
    {
      "cell_type": "markdown",
      "source": [
        " (xi) WAP to clear all the elements in L."
      ],
      "metadata": {
        "id": "TjxFOCI3Smro"
      }
    },
    {
      "cell_type": "code",
      "source": [
        "L.clear()\n",
        "print(\"After clearing:\", L)"
      ],
      "metadata": {
        "colab": {
          "base_uri": "https://localhost:8080/"
        },
        "id": "j6IYVH144xuv",
        "outputId": "02037f4c-9cd9-4b27-d150-2156e21580ac"
      },
      "execution_count": null,
      "outputs": [
        {
          "output_type": "stream",
          "name": "stdout",
          "text": [
            "After clearing: []\n"
          ]
        }
      ]
    },
    {
      "cell_type": "markdown",
      "source": [
        " (xii) WAP to delete L."
      ],
      "metadata": {
        "id": "eJyOEq3VSryj"
      }
    },
    {
      "cell_type": "code",
      "source": [
        "del L"
      ],
      "metadata": {
        "id": "-dwz7wkJ5JWA"
      },
      "execution_count": null,
      "outputs": []
    },
    {
      "cell_type": "markdown",
      "source": [
        "**Q2. D is a dictionary defined as D= {1:5.6, 2:7.8, 3:6.6, 4:8.7, 5:7.7}.**"
      ],
      "metadata": {
        "id": "_mXZBeFIS1pD"
      }
    },
    {
      "cell_type": "code",
      "source": [
        "D= {1:5.6, 2:7.8, 3:6.6, 4:8.7, 5:7.7}"
      ],
      "metadata": {
        "id": "nz8BQF4i5Ure"
      },
      "execution_count": null,
      "outputs": []
    },
    {
      "cell_type": "markdown",
      "source": [
        "(i) WAP to add new entry in D; key=8 and value is 8.8\n"
      ],
      "metadata": {
        "id": "5S0CuJq4S1T-"
      }
    },
    {
      "cell_type": "code",
      "source": [
        "D[8] = 8.8"
      ],
      "metadata": {
        "id": "x0RIhh6p5XH4"
      },
      "execution_count": null,
      "outputs": []
    },
    {
      "cell_type": "markdown",
      "source": [
        "(ii) WAP to remove key=2.\n"
      ],
      "metadata": {
        "id": "dp9mvRvmS1L4"
      }
    },
    {
      "cell_type": "code",
      "source": [
        "D.pop(2)"
      ],
      "metadata": {
        "colab": {
          "base_uri": "https://localhost:8080/"
        },
        "id": "gugEsUVE5ebP",
        "outputId": "973cf015-8832-40b9-a3e8-4831bb9288a8"
      },
      "execution_count": null,
      "outputs": [
        {
          "output_type": "execute_result",
          "data": {
            "text/plain": [
              "7.8"
            ]
          },
          "metadata": {},
          "execution_count": 81
        }
      ]
    },
    {
      "cell_type": "markdown",
      "source": [
        "(iii) WAP to check weather 6 key is present in D.\n"
      ],
      "metadata": {
        "id": "SpdjdCLXS1D1"
      }
    },
    {
      "cell_type": "code",
      "source": [
        "print(\"Key 6 exists?\", 6 in D)"
      ],
      "metadata": {
        "colab": {
          "base_uri": "https://localhost:8080/"
        },
        "id": "dkzhAndR5osi",
        "outputId": "b674502c-9d74-4e3e-f66c-d49c71cd32d3"
      },
      "execution_count": null,
      "outputs": [
        {
          "output_type": "stream",
          "name": "stdout",
          "text": [
            "Key 6 exists? False\n"
          ]
        }
      ]
    },
    {
      "cell_type": "markdown",
      "source": [
        "(iv) WAP to count the number of elements present in D.\n"
      ],
      "metadata": {
        "id": "yhPIxNNmS02z"
      }
    },
    {
      "cell_type": "code",
      "source": [
        "print(\"Count:\", len(D))"
      ],
      "metadata": {
        "colab": {
          "base_uri": "https://localhost:8080/"
        },
        "id": "rcR8DpLh5rMa",
        "outputId": "d1b9af5c-a048-4d65-e836-b9a861d3341b"
      },
      "execution_count": null,
      "outputs": [
        {
          "output_type": "stream",
          "name": "stdout",
          "text": [
            "Count: 5\n"
          ]
        }
      ]
    },
    {
      "cell_type": "markdown",
      "source": [
        "(v) WAP to add all the values present D.\n"
      ],
      "metadata": {
        "id": "BPmon1ukTMSj"
      }
    },
    {
      "cell_type": "code",
      "source": [
        "print(\"Sum of values:\", sum(D.values()))"
      ],
      "metadata": {
        "colab": {
          "base_uri": "https://localhost:8080/"
        },
        "id": "nQd-Pys455jW",
        "outputId": "7a297123-ee0c-44ae-defb-c118d1bbac48"
      },
      "execution_count": null,
      "outputs": [
        {
          "output_type": "stream",
          "name": "stdout",
          "text": [
            "Sum of values: 37.4\n"
          ]
        }
      ]
    },
    {
      "cell_type": "markdown",
      "source": [
        "(vi) WAP to update the value of 3 to 7.1.\n"
      ],
      "metadata": {
        "id": "eoq80-6uTOwH"
      }
    },
    {
      "cell_type": "code",
      "source": [
        "D[3] = 7.1"
      ],
      "metadata": {
        "id": "Y8KuVfZO59k2"
      },
      "execution_count": null,
      "outputs": []
    },
    {
      "cell_type": "markdown",
      "source": [
        "(vii) WAP to clear the dictionary."
      ],
      "metadata": {
        "id": "tDedtl8QTRTY"
      }
    },
    {
      "cell_type": "code",
      "source": [
        "D.clear()\n",
        "print(\"Cleared dictionary:\", D)"
      ],
      "metadata": {
        "colab": {
          "base_uri": "https://localhost:8080/"
        },
        "id": "s0rSNQiY6HGJ",
        "outputId": "7bc0f6d9-ab2c-45c2-a974-ab8ef98bd4a2"
      },
      "execution_count": null,
      "outputs": [
        {
          "output_type": "stream",
          "name": "stdout",
          "text": [
            "Cleared dictionary: {}\n"
          ]
        }
      ]
    },
    {
      "cell_type": "markdown",
      "source": [
        "**Q3. S1 is a set defined as S1= [10, 20, 30, 40, 50, 60].**\n",
        "\n",
        "**S2 is a set defined as S2= [40, 50, 60, 70, 80, 90].**\n"
      ],
      "metadata": {
        "id": "uc-W_F_kTxCo"
      }
    },
    {
      "cell_type": "code",
      "source": [
        "S1 = {10, 20, 30, 40, 50, 60}\n",
        "S2 = {40, 50, 60, 70, 80, 90}"
      ],
      "metadata": {
        "id": "kxy3Hfp16Kk9"
      },
      "execution_count": null,
      "outputs": []
    },
    {
      "cell_type": "markdown",
      "source": [
        "(i) WAP to add 55 and 66 in Set S1.\n"
      ],
      "metadata": {
        "id": "vKMBWnye1Le9"
      }
    },
    {
      "cell_type": "code",
      "source": [
        "S1.update([55, 66])"
      ],
      "metadata": {
        "id": "Ic9_PsQz6QMm"
      },
      "execution_count": null,
      "outputs": []
    },
    {
      "cell_type": "markdown",
      "source": [
        "(ii) WAP to remove 10 and 30 from Set S1.\n"
      ],
      "metadata": {
        "id": "GI8ty1NS1RM9"
      }
    },
    {
      "cell_type": "code",
      "source": [
        "S1.discard(10)\n",
        "S1.discard(30)"
      ],
      "metadata": {
        "id": "KxSfEoaw6UH6"
      },
      "execution_count": null,
      "outputs": []
    },
    {
      "cell_type": "markdown",
      "source": [
        "(iii) WAP to check whether 40 is present in S1.\n"
      ],
      "metadata": {
        "id": "3J0uaht31WKV"
      }
    },
    {
      "cell_type": "code",
      "source": [
        "print(\"40 in S1?\", 40 in S1)"
      ],
      "metadata": {
        "colab": {
          "base_uri": "https://localhost:8080/"
        },
        "id": "5pIxnyKf6YFg",
        "outputId": "1bc2b5cc-40d6-41bd-f810-1a8ef6baf9fc"
      },
      "execution_count": null,
      "outputs": [
        {
          "output_type": "stream",
          "name": "stdout",
          "text": [
            "40 in S1? True\n"
          ]
        }
      ]
    },
    {
      "cell_type": "markdown",
      "source": [
        "(iv) WAP to find the union between S1 and S2.\n"
      ],
      "metadata": {
        "id": "--GaRiD11YfA"
      }
    },
    {
      "cell_type": "code",
      "source": [
        "print(\"Union:\", S1.union(S2))"
      ],
      "metadata": {
        "colab": {
          "base_uri": "https://localhost:8080/"
        },
        "id": "JxL7Hn4E6dg3",
        "outputId": "bce724f5-52b1-4ea2-b5bd-77d91723ef0d"
      },
      "execution_count": null,
      "outputs": [
        {
          "output_type": "stream",
          "name": "stdout",
          "text": [
            "Union: {66, 70, 40, 80, 50, 20, 55, 90, 60}\n"
          ]
        }
      ]
    },
    {
      "cell_type": "markdown",
      "source": [
        "(v) WAP to find the intersection between S1 and S2.\n"
      ],
      "metadata": {
        "id": "1UxfE-GU1au2"
      }
    },
    {
      "cell_type": "code",
      "source": [
        "print(\"Intersection:\", S1.intersection(S2))"
      ],
      "metadata": {
        "colab": {
          "base_uri": "https://localhost:8080/"
        },
        "id": "5REHqTQs6keH",
        "outputId": "a07bd609-9692-460c-9e81-774883a01499"
      },
      "execution_count": null,
      "outputs": [
        {
          "output_type": "stream",
          "name": "stdout",
          "text": [
            "Intersection: {40, 50, 60}\n"
          ]
        }
      ]
    },
    {
      "cell_type": "markdown",
      "source": [
        "(vi) WAP to find the S1 - S2"
      ],
      "metadata": {
        "id": "YFOrBqya1hcu"
      }
    },
    {
      "cell_type": "code",
      "source": [
        "print(\"Difference:\", S1 - S2)"
      ],
      "metadata": {
        "colab": {
          "base_uri": "https://localhost:8080/"
        },
        "id": "ogaod1qC6pgt",
        "outputId": "dd94a43b-f21b-4584-c8cc-4ea65ce85a06"
      },
      "execution_count": null,
      "outputs": [
        {
          "output_type": "stream",
          "name": "stdout",
          "text": [
            "Difference: {66, 20, 55}\n"
          ]
        }
      ]
    },
    {
      "cell_type": "markdown",
      "source": [
        "**Q4. Write the following program.**\n",
        "\n"
      ],
      "metadata": {
        "id": "OBZhvm2YT2gn"
      }
    },
    {
      "cell_type": "markdown",
      "source": [
        "(i) WAP to print 100 random strings whose length between 6 and 8.\n"
      ],
      "metadata": {
        "id": "CFR68Qf4nOly"
      }
    },
    {
      "cell_type": "code",
      "source": [
        "import random as r\n",
        "import string as s\n",
        "\n",
        "for _ in range(100):\n",
        "    length = r.randint(6, 8)\n",
        "    random_str = r.sample(s.ascii_letters, length)\n",
        "    random_str1 = ''.join(random_str)\n",
        "    print(\"random_string =\", random_str1)\n"
      ],
      "metadata": {
        "colab": {
          "base_uri": "https://localhost:8080/"
        },
        "id": "IxAqydUc6umc",
        "outputId": "f5ee0093-1318-40ba-b9b5-cf56272ac0ec"
      },
      "execution_count": null,
      "outputs": [
        {
          "output_type": "stream",
          "name": "stdout",
          "text": [
            "random_string = imaobhu\n",
            "random_string = twVPyj\n",
            "random_string = VpcbuZJF\n",
            "random_string = VDgmGcJj\n",
            "random_string = OjDdKkTo\n",
            "random_string = BAtIwpf\n",
            "random_string = SHraEXmU\n",
            "random_string = AYQplt\n",
            "random_string = PHIALgS\n",
            "random_string = WcbrAT\n",
            "random_string = zgEGPjHB\n",
            "random_string = GhveXQC\n",
            "random_string = sQKhdx\n",
            "random_string = rnitze\n",
            "random_string = NwIDKrxH\n",
            "random_string = bHCRqy\n",
            "random_string = jtBbpU\n",
            "random_string = BWjtpzwY\n",
            "random_string = uvNfXF\n",
            "random_string = MsnPWxEu\n",
            "random_string = VGrqZuz\n",
            "random_string = zHRWwuM\n",
            "random_string = aLwQKleD\n",
            "random_string = inWtHbeO\n",
            "random_string = UpDlqaE\n",
            "random_string = jNrzIX\n",
            "random_string = GfCwhM\n",
            "random_string = LbrSOup\n",
            "random_string = NviHBZoS\n",
            "random_string = HcvESut\n",
            "random_string = TlxDHcVu\n",
            "random_string = eFHgsEO\n",
            "random_string = fNtbIOgF\n",
            "random_string = kZdvCwzg\n",
            "random_string = STgpXZi\n",
            "random_string = vwNDlhZC\n",
            "random_string = jeZWPc\n",
            "random_string = DTuQtWY\n",
            "random_string = twuAim\n",
            "random_string = jfpgWrA\n",
            "random_string = XHnxbf\n",
            "random_string = mQWbSY\n",
            "random_string = hqcBzE\n",
            "random_string = WiCPwjL\n",
            "random_string = AoqBNGft\n",
            "random_string = YXMdkGmo\n",
            "random_string = ncoJzEjY\n",
            "random_string = DZtHWcVQ\n",
            "random_string = pbfnHa\n",
            "random_string = RbwhyTDO\n",
            "random_string = BHdjzWAK\n",
            "random_string = josnkBP\n",
            "random_string = YhaHyENQ\n",
            "random_string = OazdeZL\n",
            "random_string = hHvUcuIB\n",
            "random_string = MDjzYtwP\n",
            "random_string = KclUYF\n",
            "random_string = aWgOoylM\n",
            "random_string = CVvnQKB\n",
            "random_string = NOzuFf\n",
            "random_string = akLnqOIE\n",
            "random_string = PpyCmWYc\n",
            "random_string = ascGkK\n",
            "random_string = BVWGxa\n",
            "random_string = EqomzUeF\n",
            "random_string = paqyRZ\n",
            "random_string = CYvMnV\n",
            "random_string = bOqHyr\n",
            "random_string = lgEeyhAi\n",
            "random_string = HYnjagD\n",
            "random_string = CiJKDX\n",
            "random_string = sGhHjVa\n",
            "random_string = rsimZP\n",
            "random_string = VteJmTp\n",
            "random_string = pVecXlsx\n",
            "random_string = HYcZNd\n",
            "random_string = WDNaQdbT\n",
            "random_string = XYHCRUi\n",
            "random_string = EQOxcvkg\n",
            "random_string = mAbwEcJV\n",
            "random_string = TueIYNdf\n",
            "random_string = GgVOdT\n",
            "random_string = twdUnz\n",
            "random_string = CBTpme\n",
            "random_string = NldQcY\n",
            "random_string = bEtVXUHp\n",
            "random_string = gXikMo\n",
            "random_string = ftuBmG\n",
            "random_string = qpicXjnJ\n",
            "random_string = DNwLFmR\n",
            "random_string = rvpZbtxa\n",
            "random_string = BeXTKcjI\n",
            "random_string = VzmPlr\n",
            "random_string = URAdVsCQ\n",
            "random_string = ryDwPO\n",
            "random_string = MeQoli\n",
            "random_string = ZSbALone\n",
            "random_string = jcXECWTG\n",
            "random_string = ojgRATV\n",
            "random_string = eoarJBLI\n"
          ]
        }
      ]
    },
    {
      "cell_type": "markdown",
      "source": [
        "(ii) WAP to print all prime numbers between 600 and 800.\n"
      ],
      "metadata": {
        "id": "Zv8kkSCRnRE3"
      }
    },
    {
      "cell_type": "code",
      "source": [
        "def IsPrime(n):\n",
        "    for i in range(2, n // 2 + 1):\n",
        "        if n % i == 0:\n",
        "            return 0\n",
        "    return 1\n",
        "for i in range(600,801):\n",
        "  if IsPrime(i):\n",
        "    print(i)"
      ],
      "metadata": {
        "colab": {
          "base_uri": "https://localhost:8080/"
        },
        "id": "UxA-jaz-zBPj",
        "outputId": "81a65acc-d217-4152-9e62-909e860cdf5a"
      },
      "execution_count": null,
      "outputs": [
        {
          "output_type": "stream",
          "name": "stdout",
          "text": [
            "601\n",
            "607\n",
            "613\n",
            "617\n",
            "619\n",
            "631\n",
            "641\n",
            "643\n",
            "647\n",
            "653\n",
            "659\n",
            "661\n",
            "673\n",
            "677\n",
            "683\n",
            "691\n",
            "701\n",
            "709\n",
            "719\n",
            "727\n",
            "733\n",
            "739\n",
            "743\n",
            "751\n",
            "757\n",
            "761\n",
            "769\n",
            "773\n",
            "787\n",
            "797\n"
          ]
        }
      ]
    },
    {
      "cell_type": "markdown",
      "source": [
        "(iii) WAP to print all numbers between 100 and 1000 that are divisible by 7 and 9."
      ],
      "metadata": {
        "id": "ifSFCUcqnTY_"
      }
    },
    {
      "cell_type": "code",
      "source": [
        "for i in range(100,1001):\n",
        "  if i%7==0 and i%9==0:\n",
        "    print(i)\n"
      ],
      "metadata": {
        "colab": {
          "base_uri": "https://localhost:8080/"
        },
        "id": "T7vyFwd8yhpJ",
        "outputId": "1ed06201-0b83-46ca-c143-2bc0251e7d49"
      },
      "execution_count": null,
      "outputs": [
        {
          "output_type": "stream",
          "name": "stdout",
          "text": [
            "126\n",
            "189\n",
            "252\n",
            "315\n",
            "378\n",
            "441\n",
            "504\n",
            "567\n",
            "630\n",
            "693\n",
            "756\n",
            "819\n",
            "882\n",
            "945\n"
          ]
        }
      ]
    },
    {
      "cell_type": "markdown",
      "source": [
        "**Q5. WAP to create two lists of 10 random numbers between 10 and 30; Find**\n"
      ],
      "metadata": {
        "id": "xw-IHKSCT6pb"
      }
    },
    {
      "cell_type": "code",
      "source": [
        "list1 = [r.randint(10, 30) for i in range(10)]\n",
        "list2 = [r.randint(10, 30) for i in range(10)]\n",
        "print(\"List1:\", list1)\n",
        "print(\"List2:\", list2)"
      ],
      "metadata": {
        "colab": {
          "base_uri": "https://localhost:8080/"
        },
        "id": "cpj7i4sH8aYj",
        "outputId": "d9121042-36fa-47a8-fcaa-d9886fa40248"
      },
      "execution_count": null,
      "outputs": [
        {
          "output_type": "stream",
          "name": "stdout",
          "text": [
            "List1: [18, 10, 26, 12, 21, 27, 26, 22, 29, 27]\n",
            "List2: [11, 14, 17, 12, 28, 24, 30, 29, 10, 15]\n"
          ]
        }
      ]
    },
    {
      "cell_type": "markdown",
      "source": [
        "(i) Common numbers in the two lists\n"
      ],
      "metadata": {
        "id": "yBP5sXjVncCU"
      }
    },
    {
      "cell_type": "code",
      "source": [
        "print(\"Common:\", list(set(list1) & set(list2)))"
      ],
      "metadata": {
        "colab": {
          "base_uri": "https://localhost:8080/"
        },
        "id": "NtAYasdu8Y7-",
        "outputId": "f195ed11-e9f9-495e-bae5-7d9c8a203b75"
      },
      "execution_count": null,
      "outputs": [
        {
          "output_type": "stream",
          "name": "stdout",
          "text": [
            "Common: [10, 12, 29]\n"
          ]
        }
      ]
    },
    {
      "cell_type": "markdown",
      "source": [
        "(ii) Unique numbers in both the list\n"
      ],
      "metadata": {
        "id": "mDIbWAbjne9X"
      }
    },
    {
      "cell_type": "code",
      "source": [
        "print(\"Unique:\", list(set(list1) ^ set(list2)))"
      ],
      "metadata": {
        "colab": {
          "base_uri": "https://localhost:8080/"
        },
        "id": "Z4Vemv4f8-S_",
        "outputId": "f44b454c-e2c5-4c30-ed59-1165c28b07c1"
      },
      "execution_count": null,
      "outputs": [
        {
          "output_type": "stream",
          "name": "stdout",
          "text": [
            "Unique: [11, 14, 15, 17, 18, 21, 22, 24, 26, 27, 28, 30]\n"
          ]
        }
      ]
    },
    {
      "cell_type": "markdown",
      "source": [
        "(iii) Minimum in both the list\n"
      ],
      "metadata": {
        "id": "ZW754VY-niCL"
      }
    },
    {
      "cell_type": "code",
      "source": [
        "print(\"Min list1:\", min(list1), \" ,Min list2:\", min(list2))"
      ],
      "metadata": {
        "colab": {
          "base_uri": "https://localhost:8080/"
        },
        "id": "wWD_mIB09FOI",
        "outputId": "33e5101f-99d5-4011-96b6-7763d011b5b4"
      },
      "execution_count": null,
      "outputs": [
        {
          "output_type": "stream",
          "name": "stdout",
          "text": [
            "Min list1: 10  ,Min list2: 10\n"
          ]
        }
      ]
    },
    {
      "cell_type": "markdown",
      "source": [
        "(iv) Maximum in both the list\n"
      ],
      "metadata": {
        "id": "cTZBGl1Jnk3q"
      }
    },
    {
      "cell_type": "code",
      "source": [
        "print(\"Max list1:\", max(list1), \" ,Max list2:\", max(list2))"
      ],
      "metadata": {
        "colab": {
          "base_uri": "https://localhost:8080/"
        },
        "id": "mkm9rdFv9NVl",
        "outputId": "edabbe0b-2909-4494-eb1d-6776b00f42a8"
      },
      "execution_count": null,
      "outputs": [
        {
          "output_type": "stream",
          "name": "stdout",
          "text": [
            "Max list1: 29  ,Max list2: 30\n"
          ]
        }
      ]
    },
    {
      "cell_type": "markdown",
      "source": [
        "(v) Sum of both the lists"
      ],
      "metadata": {
        "id": "jQh13xqannKw"
      }
    },
    {
      "cell_type": "code",
      "source": [
        "print(\"Sum list1:\", sum(list1), \" ,Sum list2:\", sum(list2))"
      ],
      "metadata": {
        "colab": {
          "base_uri": "https://localhost:8080/"
        },
        "id": "FnKTeVNZ9XC3",
        "outputId": "8ce75b55-2785-49ac-9455-866168ca7160"
      },
      "execution_count": null,
      "outputs": [
        {
          "output_type": "stream",
          "name": "stdout",
          "text": [
            "Sum list1: 218  ,Sum list2: 190\n"
          ]
        }
      ]
    },
    {
      "cell_type": "markdown",
      "source": [
        "**Q6. WAP to create a list of 100 random numbers between 100 and 900. Count and print the:**\n",
        "ll odd numbers\n",
        "Q6. WAP to create a list of 100 random numbers between 100 and 900. Count and print the:  \n",
        "(i)All odd numbers\n",
        "\n",
        "(ii) All even numbers\n",
        "\n",
        "(iii) All prime numbers\n",
        "\n"
      ],
      "metadata": {
        "id": "QFPwgd2QT_u4"
      }
    },
    {
      "cell_type": "code",
      "source": [
        "def IsPrime(n):\n",
        "    for i in range(2, n // 2 + 1):\n",
        "        if n % i == 0:\n",
        "            return 0\n",
        "    return 1\n",
        "nums = [r.randint(100, 900) for i in range(100)]\n",
        "print(nums)\n",
        "odds = [n for n in nums if n % 2 != 0] #ALL ODD NUMBERS\n",
        "evens = [n for n in nums if n % 2 == 0] #ALL EVEN NUMBERS\n",
        "primes = [n for n in nums if IsPrime(n)] #ALL PRIME NUMBERS\n",
        "\n",
        "print(\"Odd:\", odds)\n",
        "print(\"Even:\", evens)\n",
        "print(\"Prime:\", primes)\n"
      ],
      "metadata": {
        "colab": {
          "base_uri": "https://localhost:8080/"
        },
        "id": "UaMW8jat9apA",
        "outputId": "45b11b73-35af-4e2d-c1b9-1c8d31c59d77"
      },
      "execution_count": null,
      "outputs": [
        {
          "output_type": "stream",
          "name": "stdout",
          "text": [
            "[456, 879, 255, 596, 870, 684, 859, 196, 235, 211, 852, 163, 628, 508, 715, 502, 381, 679, 583, 636, 190, 668, 793, 383, 676, 682, 442, 558, 401, 439, 639, 329, 745, 334, 411, 596, 180, 405, 103, 858, 586, 174, 152, 734, 296, 810, 343, 315, 406, 458, 754, 331, 346, 875, 408, 749, 382, 361, 819, 479, 530, 672, 651, 203, 749, 496, 229, 718, 658, 122, 860, 447, 866, 448, 728, 402, 203, 233, 834, 293, 804, 296, 627, 132, 666, 796, 456, 114, 120, 849, 280, 679, 756, 382, 186, 403, 600, 264, 678, 808]\n",
            "Odd: [879, 255, 859, 235, 211, 163, 715, 381, 679, 583, 793, 383, 401, 439, 639, 329, 745, 411, 405, 103, 343, 315, 331, 875, 749, 361, 819, 479, 651, 203, 749, 229, 447, 203, 233, 293, 627, 849, 679, 403]\n",
            "Even: [456, 596, 870, 684, 196, 852, 628, 508, 502, 636, 190, 668, 676, 682, 442, 558, 334, 596, 180, 858, 586, 174, 152, 734, 296, 810, 406, 458, 754, 346, 408, 382, 530, 672, 496, 718, 658, 122, 860, 866, 448, 728, 402, 834, 804, 296, 132, 666, 796, 456, 114, 120, 280, 756, 382, 186, 600, 264, 678, 808]\n",
            "Prime: [859, 211, 163, 383, 401, 439, 103, 331, 479, 229, 233, 293]\n"
          ]
        }
      ]
    },
    {
      "cell_type": "markdown",
      "source": [
        "**Q7. D is a dictionary defined as D={1:\"One\",2:\"Two\",3:\"Three\",4:\"Four\", 5:\"Five\"}.**\n",
        "\n",
        " WAP to read all the keys and values from dictionary and write to the file in the given below format.\n",
        "\n",
        "Key1, Value1\n",
        "\n",
        "Key2, Value2\n",
        "\n",
        "Key3, Value3"
      ],
      "metadata": {
        "id": "LWuTu3BJUELg"
      }
    },
    {
      "cell_type": "code",
      "source": [
        "D = {1:\"One\",2:\"Two\",3:\"Three\",4:\"Four\", 5:\"Five\"}\n",
        "fp =open(\"dict_output.txt\", \"w\")\n",
        "for k, v in D.items():\n",
        "  fp.write(f\"{k}, {v}\\n\")"
      ],
      "metadata": {
        "id": "eho0MMQN--S-"
      },
      "execution_count": null,
      "outputs": []
    },
    {
      "cell_type": "code",
      "source": [
        "fp.close()"
      ],
      "metadata": {
        "id": "zBbTh3Pmqsvz"
      },
      "execution_count": null,
      "outputs": []
    },
    {
      "cell_type": "markdown",
      "source": [
        "**Q8. L is a list defined as L={\"One\",\"Two\",\"Three\",\"Four\",\"Five\"}.**\n",
        "\n",
        " WAP to count the length of reach element from a list and write to the file in the given below format:\n",
        "\n",
        "One, 3\n",
        "\n",
        "Two, 3\n",
        "\n",
        "Four, 4\n"
      ],
      "metadata": {
        "id": "cX-oIMwgUQOA"
      }
    },
    {
      "cell_type": "code",
      "source": [
        "L = [\"One\", \"Two\", \"Three\", \"Four\", \"Five\"]\n",
        "fp= open(\"length_output.txt\", \"w\")\n",
        "for word in L:\n",
        "  fp.write(f\"{word}, {len(word)}\\n\")\n"
      ],
      "metadata": {
        "id": "Ex9048iVq5ej"
      },
      "execution_count": null,
      "outputs": []
    },
    {
      "cell_type": "markdown",
      "source": [
        "**Q9. Write to the file 100 random strings whose length between 10 and 15.**"
      ],
      "metadata": {
        "id": "em8NODN7UTbn"
      }
    },
    {
      "cell_type": "code",
      "source": [
        "fn= open(\"random_strings.txt\", \"w\")\n",
        "for i in range(100):\n",
        "  length = r.randint(10, 15)\n",
        "  random_strings = r.sample(s.ascii_letters, length)\n",
        "  random_str1 = ''.join(random_strings)\n",
        "  fn.write(f\"{random_str1},{length}\\n\")\n",
        "\n"
      ],
      "metadata": {
        "id": "zdCDzrY9gm56"
      },
      "execution_count": null,
      "outputs": []
    },
    {
      "cell_type": "markdown",
      "source": [
        "**Q10. Write to the file all prime numbers between 600 and 800.**"
      ],
      "metadata": {
        "id": "32qQIpBEUWti"
      }
    },
    {
      "cell_type": "code",
      "source": [
        "f= open(\"prime_600_800.txt\", \"w\")\n",
        "for i in range(600, 801):\n",
        "  if IsPrime(i):\n",
        "    f.write(str(i) + \"\\n\")\n"
      ],
      "metadata": {
        "id": "Xtg5owFciOq7"
      },
      "execution_count": null,
      "outputs": []
    },
    {
      "cell_type": "markdown",
      "source": [
        "**Q11. WAP to calculate the time taken by a program**"
      ],
      "metadata": {
        "id": "dQoJ8spdUZ3F"
      }
    },
    {
      "cell_type": "code",
      "source": [
        "import time\n",
        "start = time.time()\n",
        "# Sample task\n",
        "sum([i for i in range(1000000)])\n",
        "end = time.time()\n",
        "print(\"Time taken:\", end - start)\n"
      ],
      "metadata": {
        "colab": {
          "base_uri": "https://localhost:8080/"
        },
        "id": "YeIBgIybr5RD",
        "outputId": "fecb9ab8-a51d-42a5-b294-dca028f54675"
      },
      "execution_count": null,
      "outputs": [
        {
          "output_type": "stream",
          "name": "stdout",
          "text": [
            "Time taken: 0.07580351829528809\n"
          ]
        }
      ]
    },
    {
      "cell_type": "markdown",
      "source": [
        "**Q12. WAP to sort following number of elements in a list, calculate time taken and plot the graph.**\n",
        "\n",
        "![Screenshot 2025-06-10 171005.png](data:image/png;base64,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)"
      ],
      "metadata": {
        "id": "UINMY4FLUdSC"
      }
    },
    {
      "cell_type": "code",
      "source": [
        "import matplotlib.pyplot as plt\n",
        "\n",
        "sizes = [5000, 10000, 15000, 20000, 25000]\n",
        "times = []\n",
        "\n",
        "for size in sizes:\n",
        "    data = [r.randint(0, 100000) for _ in range(size)]\n",
        "    start = time.time()\n",
        "    sorted(data)\n",
        "    end = time.time()\n",
        "    times.append(end - start)\n",
        "\n",
        "plt.plot(sizes, times, marker='o')\n",
        "plt.xlabel(\"Number of Elements\")\n",
        "plt.ylabel(\"Time Taken (s)\")\n",
        "plt.title(\"Sorting Time vs List Size\")\n",
        "plt.grid()\n",
        "plt.show()\n"
      ],
      "metadata": {
        "colab": {
          "base_uri": "https://localhost:8080/",
          "height": 472
        },
        "id": "r6bWC68i_vzM",
        "outputId": "14bd2e6b-fdbc-4de3-9286-e17e2d6f1661"
      },
      "execution_count": null,
      "outputs": [
        {
          "output_type": "display_data",
          "data": {
            "text/plain": [
              "<Figure size 640x480 with 1 Axes>"
            ],
            "image/png": "[encoded data removed]"
          },
          "metadata": {}
        }
      ]
    },
    {
      "cell_type": "markdown",
      "source": [
        "**Q13. WAP to create a dictionary of student marks in five subjects and you have to find the student\n",
        " having maximum and minimum average marks.**"
      ],
      "metadata": {
        "id": "mgCMrcHYUlX9"
      }
    },
    {
      "cell_type": "code",
      "source": [
        "students = {\n",
        "    'John': [80, 85, 78, 92, 88],\n",
        "    'Emma': [75, 80, 70, 90, 85],\n",
        "    'Mike': [90, 92, 88, 95, 94],\n",
        "    'Lisa': [60, 65, 70, 68, 72]\n",
        "}\n",
        "\n",
        "averages = {name: sum(marks)/len(marks) for name, marks in students.items()}\n",
        "max_student = max(averages, key=averages.get)\n",
        "min_student = min(averages, key=averages.get)\n",
        "\n",
        "print(\"Max Avg:\", max_student, averages[max_student])\n",
        "print(\"Min Avg:\", min_student, averages[min_student])\n"
      ],
      "metadata": {
        "colab": {
          "base_uri": "https://localhost:8080/"
        },
        "id": "8MyDazdW_ju0",
        "outputId": "7cc91ac4-837d-49db-928c-cf8504f47679"
      },
      "execution_count": null,
      "outputs": [
        {
          "output_type": "stream",
          "name": "stdout",
          "text": [
            "Max Avg: Mike 91.8\n",
            "Min Avg: Lisa 67.0\n"
          ]
        }
      ]
    }
  ]
}